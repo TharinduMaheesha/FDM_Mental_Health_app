{
 "cells": [
  {
   "cell_type": "markdown",
   "source": [
    "## Import libraries"
   ],
   "metadata": {}
  },
  {
   "cell_type": "code",
   "execution_count": null,
   "source": [
    "import numpy as np\r\n",
    "import pandas as pd\r\n",
    "import seaborn as sns\r\n",
    "import matplotlib.pyplot as plt\r\n",
    "%matplotlib inline"
   ],
   "outputs": [],
   "metadata": {}
  },
  {
   "cell_type": "markdown",
   "source": [
    "## Import dataset"
   ],
   "metadata": {}
  },
  {
   "cell_type": "code",
   "execution_count": null,
   "source": [
    "df = pd.read_csv(\"Data/dataset3.csv\")\r\n",
    "df.head()"
   ],
   "outputs": [],
   "metadata": {}
  },
  {
   "cell_type": "markdown",
   "source": [
    "## Observing data"
   ],
   "metadata": {}
  },
  {
   "cell_type": "code",
   "execution_count": null,
   "source": [
    "columns = df.columns"
   ],
   "outputs": [],
   "metadata": {}
  },
  {
   "cell_type": "code",
   "execution_count": null,
   "source": [
    "for i in columns:\r\n",
    "    print(i + \" Unique values : \" , df[i].unique())\r\n"
   ],
   "outputs": [],
   "metadata": {}
  },
  {
   "cell_type": "code",
   "execution_count": null,
   "source": [
    "df.isnull().sum()"
   ],
   "outputs": [],
   "metadata": {}
  },
  {
   "cell_type": "code",
   "execution_count": null,
   "source": [
    "df.dtypes"
   ],
   "outputs": [],
   "metadata": {}
  },
  {
   "cell_type": "markdown",
   "source": [
    "## Visualizations"
   ],
   "metadata": {}
  },
  {
   "cell_type": "code",
   "execution_count": null,
   "source": [
    "#Data visualization\r\n",
    "\r\n",
    "#Target column data\r\n",
    "plt.figure(figsize=(15,5))\r\n",
    "sns.countplot(x ='Disorder', data = df)\r\n",
    "plt.xlabel('Disorder', size = 15)\r\n",
    "plt.ylabel('Identified number of patients', size = 15)\r\n",
    "plt.title('Diagnosed disorders of patients with counts', color = 'green', size = 25)\r\n",
    "plt.show()"
   ],
   "outputs": [],
   "metadata": {}
  },
  {
   "cell_type": "code",
   "execution_count": null,
   "source": [
    "variables = [\"feeling nervous\", \"panic\", \"breathing rapidly\", \"sweating\", \"having trouble in concentration\", \"having trouble in sleeping\", \"having trouble with work\",\r\n",
    "             \"feel hopeless\", \"feel angry\", \"over react\", \"have changes in eating\", \"have suicidal thought\", \"feeling tired\", \"have a close friend\",\r\n",
    "             \"have a social media addiction\", \"gained weight\", \"have material possessions\", \"an introvert\", \"a popping up stressful memory\", \"having nightmares\",\r\n",
    "             \"avoid people or activities\", \"feel negative\", \"trouble concentrating\", \"blamming yourself\"]\r\n",
    "for v in variables:\r\n",
    "  sns.countplot(x = v, data = df , figsize=(30,30))\r\n",
    "  plt.show()"
   ],
   "outputs": [],
   "metadata": {}
  },
  {
   "cell_type": "markdown",
   "source": [
    "## Converting string data to boolean data type"
   ],
   "metadata": {}
  },
  {
   "cell_type": "code",
   "execution_count": null,
   "source": [
    "x=df.loc[:, 'feeling nervous':'blamming yourself'].replace(\"yes\", pd.Series(True, df.columns))\r\n",
    "x=x.loc[:, 'feeling nervous':'blamming yourself'].replace(\"no\", pd.Series(False, df.columns))\r\n",
    "x.head()"
   ],
   "outputs": [],
   "metadata": {}
  },
  {
   "cell_type": "markdown",
   "source": [
    "# FP growth algorithm implementation"
   ],
   "metadata": {}
  },
  {
   "cell_type": "code",
   "execution_count": null,
   "source": [
    "from mlxtend.frequent_patterns import fpgrowth"
   ],
   "outputs": [],
   "metadata": {}
  },
  {
   "cell_type": "code",
   "execution_count": null,
   "source": [
    "final = fpgrowth(x, min_support=0.2 , use_colnames=True )\r\n",
    "final.head(25)"
   ],
   "outputs": [],
   "metadata": {}
  },
  {
   "cell_type": "code",
   "execution_count": null,
   "source": [
    "final['itemsets']"
   ],
   "outputs": [],
   "metadata": {}
  },
  {
   "cell_type": "markdown",
   "source": [
    "## Using the frequent itemset for building the system"
   ],
   "metadata": {}
  },
  {
   "cell_type": "code",
   "execution_count": null,
   "source": [
    "fin = final['itemsets']\r\n",
    "y = list()\r\n",
    "for i in fin:\r\n",
    "    y.append(list(i))"
   ],
   "outputs": [],
   "metadata": {}
  },
  {
   "cell_type": "code",
   "execution_count": null,
   "source": [
    "y[0:22]"
   ],
   "outputs": [],
   "metadata": {}
  },
  {
   "cell_type": "code",
   "execution_count": null,
   "source": [
    "# Function to get the list with a given word if answered yes\r\n",
    "def getInList(word , test1): \r\n",
    "\r\n",
    "    t = [i for i in test1 if word in i]\r\n",
    "\r\n",
    "    for d in t:\r\n",
    "            d.remove(word)\r\n",
    "        \r\n",
    "    return t\r\n",
    "\r\n",
    "# Function to get the list without a given word if answered no\r\n",
    "def getNotInList(word , temp):\r\n",
    "    t = [i for i in temp if word not in i]\r\n",
    "\r\n",
    "    return t\r\n",
    "\r\n"
   ],
   "outputs": [],
   "metadata": {}
  },
  {
   "cell_type": "code",
   "execution_count": null,
   "source": [
    "# Get the maximum occuring word in a given list\r\n",
    "def getMax(freqList):\r\n",
    "    fin = final['itemsets']\r\n",
    "    k = list()\r\n",
    "    for i in fin:\r\n",
    "        k.append(list(i))\r\n",
    "    u = dict()\r\n",
    "    for i in k[0:22]:\r\n",
    "        count = 0\r\n",
    "        for j in freqList:\r\n",
    "            # print(i,j)\r\n",
    "            if i[0] in j:\r\n",
    "                count+=1\r\n",
    "        u.update({i[0]:count})\r\n",
    "\r\n",
    "    MaxDictVal = max(u, key=u.get)\r\n",
    "    \r\n",
    "    return MaxDictVal\r\n",
    "\r\n",
    "\r\n",
    "    "
   ],
   "outputs": [],
   "metadata": {}
  },
  {
   "cell_type": "markdown",
   "source": [
    "## Testing the built model "
   ],
   "metadata": {}
  },
  {
   "cell_type": "code",
   "execution_count": null,
   "source": [
    "tempwordlist = y\r\n",
    "maxword = getMax(tempwordlist)\r\n",
    "word = input(\"do you have  \"+ maxword)\r\n",
    "for i in range(0,3):\r\n",
    "    if word == 'yes':\r\n",
    "        tempwordlist = getInList(maxword ,tempwordlist)\r\n",
    "        print(tempwordlist)\r\n",
    "        maxword = getMax(tempwordlist)\r\n",
    "        print(maxword)\r\n",
    "        word = input(\"do you have \" +maxword )\r\n",
    "    else:\r\n",
    "        tempwordlist = getNotInList(maxword ,tempwordlist)\r\n",
    "        maxword = getMax(tempwordlist)\r\n",
    "        word = input(\"do you have \" +maxword )\r\n",
    "\r\n"
   ],
   "outputs": [],
   "metadata": {}
  },
  {
   "cell_type": "code",
   "execution_count": null,
   "source": [
    "r = list()\r\n",
    "for i in tempwordlist:\r\n",
    "    for j in i:\r\n",
    "        if j not in r:\r\n",
    "            r.append(j)\r\n",
    "r"
   ],
   "outputs": [],
   "metadata": {}
  }
 ],
 "metadata": {
  "orig_nbformat": 4,
  "kernelspec": {
   "name": "python3",
   "display_name": "Python 3.9.7 64-bit ('penv': venv)"
  },
  "language_info": {
   "name": "python",
   "version": "3.9.7",
   "mimetype": "text/x-python",
   "codemirror_mode": {
    "name": "ipython",
    "version": 3
   },
   "pygments_lexer": "ipython3",
   "nbconvert_exporter": "python",
   "file_extension": ".py"
  },
  "interpreter": {
   "hash": "ee25deaa157146aa5ab983906bb6a065bee9b1c63fc59cc7edac0e5187fae9dd"
  }
 },
 "nbformat": 4,
 "nbformat_minor": 2
}