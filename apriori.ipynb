{
 "cells": [
  {
   "cell_type": "markdown",
   "source": [
    "## Import libraries"
   ],
   "metadata": {}
  },
  {
   "cell_type": "code",
   "execution_count": null,
   "source": [
    "import pandas as pd\r\n",
    "import numpy as np\r\n",
    "from matplotlib import pyplot as plt\r\n",
    "import seaborn as sns\r\n",
    "from scipy import stats\r\n",
    "\r\n",
    "%matplotlib inline"
   ],
   "outputs": [],
   "metadata": {}
  },
  {
   "cell_type": "markdown",
   "source": [
    "# Pre processing"
   ],
   "metadata": {}
  },
  {
   "cell_type": "markdown",
   "source": [
    "## Import Dataset"
   ],
   "metadata": {}
  },
  {
   "cell_type": "code",
   "execution_count": null,
   "source": [
    "data=pd.read_csv('Data/dataset2.csv')"
   ],
   "outputs": [],
   "metadata": {}
  },
  {
   "cell_type": "code",
   "execution_count": null,
   "source": [
    "data.head()"
   ],
   "outputs": [],
   "metadata": {}
  },
  {
   "cell_type": "markdown",
   "source": [
    "## Observing data"
   ],
   "metadata": {}
  },
  {
   "cell_type": "code",
   "execution_count": null,
   "source": [
    "data.info()"
   ],
   "outputs": [],
   "metadata": {}
  },
  {
   "cell_type": "code",
   "execution_count": null,
   "source": [
    "data.isnull().sum()"
   ],
   "outputs": [],
   "metadata": {}
  },
  {
   "cell_type": "code",
   "execution_count": null,
   "source": [
    "data.Disorder.unique()"
   ],
   "outputs": [],
   "metadata": {}
  },
  {
   "cell_type": "markdown",
   "source": [
    "## Encoding data"
   ],
   "metadata": {}
  },
  {
   "cell_type": "code",
   "execution_count": null,
   "source": [
    "from sklearn.preprocessing import LabelEncoder\r\n",
    "\r\n",
    "le=LabelEncoder()\r\n",
    "data['feeling.nervous']=le.fit(data['feeling.nervous']).transform(data['feeling.nervous'])\r\n",
    "data['panic']=le.fit(data['panic']).transform(data['panic'])\r\n",
    "data['breathing.rapidly']=le.fit(data['breathing.rapidly']).transform(data['breathing.rapidly'])\r\n",
    "data['sweating']=le.fit(data['sweating']).transform(data['sweating'])\r\n",
    "data['trouble.in.concentration']=le.fit(data['trouble.in.concentration']).transform(data['trouble.in.concentration'])\r\n",
    "data['having.trouble.in.sleeping']=le.fit(data['having.trouble.in.sleeping']).transform(data['having.trouble.in.sleeping'])\r\n",
    "data['having.trouble.with.work']=le.fit(data['having.trouble.with.work']).transform(data['having.trouble.with.work'])\r\n",
    "data['hopelessness']=le.fit(data['hopelessness']).transform(data['hopelessness'])\r\n",
    "data['anger']=le.fit(data['anger']).transform(data['anger'])\r\n",
    "data['over.react']=le.fit(data['over.react']).transform(data['over.react'])\r\n",
    "data['change.in.eating']=le.fit(data['change.in.eating']).transform(data['change.in.eating'])\r\n",
    "data['suicidal.thought']=le.fit(data['suicidal.thought']).transform(data['suicidal.thought'])\r\n",
    "data['feeling.tired']=le.fit(data['feeling.tired']).transform(data['feeling.tired'])\r\n",
    "data['close.friend']=le.fit(data['close.friend']).transform(data['close.friend'])\r\n",
    "data['social.media.addiction']=le.fit(data['social.media.addiction']).transform(data['social.media.addiction'])\r\n",
    "data['weight.gain']=le.fit(data['weight.gain']).transform(data['weight.gain'])\r\n",
    "data['material.possessions']=le.fit(data['material.possessions']).transform(data['material.possessions'])\r\n",
    "data['introvert']=le.fit(data['introvert']).transform(data['introvert'])\r\n",
    "data['popping.up.stressful.memory']=le.fit(data['popping.up.stressful.memory']).transform(data['popping.up.stressful.memory'])\r\n",
    "data['having.nightmares']=le.fit(data['having.nightmares']).transform(data['having.nightmares'])\r\n",
    "data['avoids.people.or.activities']=le.fit(data['avoids.people.or.activities']).transform(data['avoids.people.or.activities'])\r\n",
    "data['feeling.negative']=le.fit(data['feeling.negative']).transform(data['feeling.negative'])\r\n",
    "data['trouble.concentrating']=le.fit(data['trouble.concentrating']).transform(data['trouble.concentrating'])\r\n",
    "data['blamming.yourself']=le.fit(data['blamming.yourself']).transform(data['blamming.yourself'])\r\n"
   ],
   "outputs": [],
   "metadata": {}
  },
  {
   "cell_type": "code",
   "execution_count": null,
   "source": [
    "df_new = data.iloc[:, :-1]\r\n",
    "df_new"
   ],
   "outputs": [],
   "metadata": {}
  },
  {
   "cell_type": "code",
   "execution_count": null,
   "source": [
    "len(df_new['feeling.nervous'] == 1)"
   ],
   "outputs": [],
   "metadata": {}
  },
  {
   "cell_type": "code",
   "execution_count": null,
   "source": [
    "len(df_new['panic'] == 1 )"
   ],
   "outputs": [],
   "metadata": {}
  },
  {
   "cell_type": "markdown",
   "source": [
    "# Apriori implementation"
   ],
   "metadata": {}
  },
  {
   "cell_type": "code",
   "execution_count": null,
   "source": [
    "from mlxtend.frequent_patterns import apriori\r\n",
    "from mlxtend.frequent_patterns import association_rules"
   ],
   "outputs": [],
   "metadata": {}
  },
  {
   "cell_type": "code",
   "execution_count": null,
   "source": [
    "frequent_itemsets = apriori(df_new, min_support=0.02, use_colnames=True)\r\n",
    "rules = association_rules(frequent_itemsets, metric=\"lift\", min_threshold=1)\r\n",
    "rules.head()"
   ],
   "outputs": [],
   "metadata": {}
  },
  {
   "cell_type": "code",
   "execution_count": null,
   "source": [
    "frequent_itemsets['itemsets'][251]"
   ],
   "outputs": [],
   "metadata": {}
  },
  {
   "cell_type": "code",
   "execution_count": null,
   "source": [
    "frequent_itemsets[:25]"
   ],
   "outputs": [],
   "metadata": {}
  },
  {
   "cell_type": "code",
   "execution_count": null,
   "source": [
    "rules[rules['antecedents'] == {'panic','feeling.nervous','breathing.rapidly','trouble.in.concentration'}]"
   ],
   "outputs": [],
   "metadata": {}
  },
  {
   "cell_type": "code",
   "execution_count": null,
   "source": [
    "rules[rules['antecedents'] == {'feeling.nervous'}]"
   ],
   "outputs": [],
   "metadata": {}
  },
  {
   "cell_type": "code",
   "execution_count": null,
   "source": [
    "def func(rules,sym):\r\n",
    "    conseq =  rules[rules['antecedents'] == {sym}]\r\n",
    "    return conseq[['antecedents', 'consequents']]"
   ],
   "outputs": [],
   "metadata": {}
  },
  {
   "cell_type": "code",
   "execution_count": null,
   "source": [
    "t = func(rules,'panic')\r\n",
    "t"
   ],
   "outputs": [],
   "metadata": {}
  }
 ],
 "metadata": {
  "orig_nbformat": 4,
  "language_info": {
   "name": "python",
   "version": "3.9.7",
   "mimetype": "text/x-python",
   "codemirror_mode": {
    "name": "ipython",
    "version": 3
   },
   "pygments_lexer": "ipython3",
   "nbconvert_exporter": "python",
   "file_extension": ".py"
  },
  "kernelspec": {
   "name": "python3",
   "display_name": "Python 3.9.7 64-bit ('penv': venv)"
  },
  "interpreter": {
   "hash": "ee25deaa157146aa5ab983906bb6a065bee9b1c63fc59cc7edac0e5187fae9dd"
  }
 },
 "nbformat": 4,
 "nbformat_minor": 2
}